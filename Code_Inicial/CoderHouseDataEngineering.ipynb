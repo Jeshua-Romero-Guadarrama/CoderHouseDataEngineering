{
 "cells": [
  {
   "cell_type": "markdown",
   "id": "8612e576-e1fb-42df-8077-ac4fec4fd93a",
   "metadata": {},
   "source": [
    "# Coder House Data Engineering"
   ]
  },
  {
   "cell_type": "markdown",
   "id": "727bc666-33f0-4270-807e-9a069904a77d",
   "metadata": {
    "tags": []
   },
   "source": [
    "Desarrollar un script que extraiga datos de una API pública. A su vez, el alumno debe crear una tabla en\n",
    "Redshift para posterior carga de los datos extraidos."
   ]
  },
  {
   "cell_type": "code",
   "execution_count": 1,
   "id": "afd052de-b882-419d-9c9a-250d5114802a",
   "metadata": {
    "tags": []
   },
   "outputs": [],
   "source": [
    "import time\n",
    "import psycopg2\n",
    "import requests\n",
    "import datetime\n",
    "import numpy as np\n",
    "import pandas as pd\n",
    "from tqdm import tqdm"
   ]
  },
  {
   "cell_type": "markdown",
   "id": "b8953154-66df-4d1c-8094-bbc85d1e25a6",
   "metadata": {},
   "source": [
    "## Elección de la API"
   ]
  },
  {
   "cell_type": "code",
   "execution_count": 2,
   "id": "7ab4b54e-78c8-4f41-9bcb-dc2b8ec8b93f",
   "metadata": {
    "tags": []
   },
   "outputs": [
    {
     "name": "stderr",
     "output_type": "stream",
     "text": [
      "Procesando países:   0%|                                                                         | 0/1 [00:00<?, ?it/s]\n",
      "Indicadores para MEX:   0%|                                                                     | 0/20 [00:00<?, ?it/s]\u001b[A\n",
      "Indicadores para MEX:   5%|███                                                          | 1/20 [00:00<00:12,  1.47it/s]\u001b[A\n",
      "Indicadores para MEX:  10%|██████                                                       | 2/20 [00:01<00:12,  1.47it/s]\u001b[A\n",
      "Indicadores para MEX:  15%|█████████▏                                                   | 3/20 [00:02<00:11,  1.49it/s]\u001b[A\n",
      "Indicadores para MEX:  20%|████████████▏                                                | 4/20 [00:02<00:11,  1.38it/s]\u001b[A\n",
      "Indicadores para MEX:  25%|███████████████▎                                             | 5/20 [00:03<00:11,  1.36it/s]\u001b[A\n",
      "Indicadores para MEX:  30%|██████████████████▎                                          | 6/20 [00:04<00:10,  1.29it/s]\u001b[A\n",
      "Indicadores para MEX:  35%|█████████████████████▎                                       | 7/20 [00:05<00:10,  1.24it/s]\u001b[A\n",
      "Indicadores para MEX:  40%|████████████████████████▍                                    | 8/20 [00:06<00:10,  1.15it/s]\u001b[A\n",
      "Indicadores para MEX:  45%|███████████████████████████▍                                 | 9/20 [00:07<00:09,  1.16it/s]\u001b[A\n",
      "Indicadores para MEX:  50%|██████████████████████████████                              | 10/20 [00:07<00:08,  1.19it/s]\u001b[A\n",
      "Indicadores para MEX:  55%|█████████████████████████████████                           | 11/20 [00:08<00:07,  1.18it/s]\u001b[A\n",
      "Indicadores para MEX:  60%|████████████████████████████████████                        | 12/20 [00:09<00:06,  1.18it/s]\u001b[A\n",
      "Indicadores para MEX:  65%|███████████████████████████████████████                     | 13/20 [00:10<00:06,  1.15it/s]\u001b[A\n",
      "Indicadores para MEX:  70%|██████████████████████████████████████████                  | 14/20 [00:11<00:05,  1.13it/s]\u001b[A\n",
      "Indicadores para MEX:  75%|█████████████████████████████████████████████               | 15/20 [00:12<00:04,  1.10it/s]\u001b[A\n",
      "Indicadores para MEX:  80%|████████████████████████████████████████████████            | 16/20 [00:13<00:03,  1.14it/s]\u001b[A\n",
      "Indicadores para MEX:  85%|███████████████████████████████████████████████████         | 17/20 [00:14<00:02,  1.12it/s]\u001b[A\n",
      "Indicadores para MEX:  90%|██████████████████████████████████████████████████████      | 18/20 [00:15<00:01,  1.11it/s]\u001b[A\n",
      "Indicadores para MEX:  95%|█████████████████████████████████████████████████████████   | 19/20 [00:16<00:00,  1.07it/s]\u001b[A\n",
      "Indicadores para MEX: 100%|████████████████████████████████████████████████████████████| 20/20 [00:17<00:00,  1.17it/s]\u001b[A\n",
      "Procesando países: 100%|█████████████████████████████████████████████████████████████████| 1/1 [00:17<00:00, 17.05s/it]"
     ]
    },
    {
     "name": "stdout",
     "output_type": "stream",
     "text": [
      "    Country Code Country Name  Indicator Code  Year  Value\n",
      "0             MX       Mexico     FR_INR_RINR  2021   0.70\n",
      "1             MX       Mexico     FR_INR_RINR  2020   1.45\n",
      "2             MX       Mexico     FR_INR_RINR  2019   4.00\n",
      "3             MX       Mexico     FR_INR_RINR  2018   2.70\n",
      "4             MX       Mexico     FR_INR_RINR  2017   0.72\n",
      "..           ...          ...             ...   ...    ...\n",
      "401           MX       Mexico  SP_DYN_CBRT_IN  2004  22.35\n",
      "402           MX       Mexico  SP_DYN_CBRT_IN  2003  22.80\n",
      "403           MX       Mexico  SP_DYN_CBRT_IN  2002  23.26\n",
      "404           MX       Mexico  SP_DYN_CBRT_IN  2001  23.72\n",
      "405           MX       Mexico  SP_DYN_CBRT_IN  2000  24.16\n",
      "\n",
      "[406 rows x 5 columns]\n"
     ]
    },
    {
     "name": "stderr",
     "output_type": "stream",
     "text": [
      "\n"
     ]
    }
   ],
   "source": [
    "def obtener_datos_desde_api(codigo_pais, codigo_indicador):\n",
    "    \"\"\"\n",
    "    Realiza una petición a la API del Banco Mundial para obtener datos de un indicador específico de un país.\n",
    "    \n",
    "    Parámetros:\n",
    "    - codigo_pais (str): El código ISO del país.\n",
    "    - codigo_indicador (str): El código del indicador económico.\n",
    "    \n",
    "    Retorna:\n",
    "    - list: Lista de datos obtenidos de la API, o una lista vacía si hubo un error o no se encontraron datos.\n",
    "    \"\"\"\n",
    "    url = f\"https://api.worldbank.org/v2/country/{codigo_pais}/indicator/{codigo_indicador}?format=json&date=2000:2021\"\n",
    "    headers = {'User-Agent': 'Mozilla/5.0 (Windows NT 10.0; Win64; x64) AppleWebKit/537.36 (KHTML, like Gecko) Chrome/58.0.3029.110 Safari/537.3'}\n",
    "    try:\n",
    "        response = requests.get(url, headers = headers)\n",
    "        if response.status_code == 200:\n",
    "            data = response.json()\n",
    "            if len(data) == 2 and 'page' in data[0]:\n",
    "                return data[1]  # data[1] contiene los datos reales\n",
    "    except requests.RequestException as Error:\n",
    "        print(f\"Error al obtener datos desde la API: {Error}\")\n",
    "    return []\n",
    "\n",
    "def transformar_datos(datos_crudos):\n",
    "    \"\"\"\n",
    "    Transforma los datos crudos obtenidos de la API en una lista de diccionarios, preparados para ser convertidos en DataFrame.\n",
    "    \n",
    "    Parámetros:\n",
    "    - datos_crudos (list): Lista de datos crudos obtenidos de la API.\n",
    "    \n",
    "    Retorna:\n",
    "    - list: Lista de diccionarios con los datos transformados, adecuados para conversión a DataFrame.\n",
    "    \"\"\"\n",
    "    if datos_crudos:\n",
    "        return [\n",
    "            {'Country Code': dato.get('country', {}).get('id', 'N/A'),\n",
    "             'Country Name': dato.get('country', {}).get('value', 'N/A'),\n",
    "             'Indicator Code': dato.get('indicator', {}).get('id', 'N/A'),\n",
    "             'Year': int(dato.get('date', '1900')),\n",
    "             'Value': dato.get('value', None),}\n",
    "            for dato in datos_crudos if dato.get('value') is not None\n",
    "        ]\n",
    "    return []\n",
    "\n",
    "# Inicializar sesión de requests\n",
    "session = requests.Session()\n",
    "\n",
    "# Indicadores y países\n",
    "indicadores = ['FR.INR.RINR', 'PA.NUS.FCRF', 'NY.GDP.MKTP.CD', 'NY.GDP.PCAP.CD', 'SP.POP.TOTL', 'FP.CPI.TOTL', 'GC.DOD.TOTL.GD.ZS', 'NE.EXP.GNFS.CD', 'NE.IMP.GNFS.CD', 'FI.RES.TOTL.CD', 'DT.DOD.DECT.CD', 'GC.TAX.TOTL.GD.ZS', 'SL.UEM.TOTL.NE.ZS', 'SH.XPD.CHEX.GD.ZS', 'SE.XPD.TOTL.GD.ZS', 'EG.ELC.ACCS.ZS', 'EG.USE.PCAP.KG.OE', 'EN.ATM.CO2E.PC', 'IT.NET.USER.ZS', 'SP.DYN.CBRT.IN']\n",
    "indicadores_sanitizados = [indicador.replace('.', '_') for indicador in indicadores]\n",
    "paises = ['MEX']\n",
    "\n",
    "resultados = []\n",
    "for pais in tqdm(paises, desc=\"Procesando países\"):\n",
    "    for indicador in tqdm(indicadores, desc = f\"Indicadores para {pais}\"):\n",
    "        datos_crudos = obtener_datos_desde_api(pais, indicador)\n",
    "        resultados.extend(transformar_datos(datos_crudos))\n",
    "\n",
    "# Crear DataFrame\n",
    "df = pd.DataFrame(resultados)\n",
    "\n",
    "# Reemplazar puntos por guiones bajos en los nombres de los indicadores en el DataFrame\n",
    "df['Indicator Code'] = df['Indicator Code'].str.replace('.', '_')\n",
    "df['Value'] = df['Value'].round(2)\n",
    "print(df)"
   ]
  },
  {
   "cell_type": "markdown",
   "id": "e80efa38-f422-492a-bac7-7408f9f5d267",
   "metadata": {},
   "source": [
    "## Análisis del DataFrame"
   ]
  },
  {
   "cell_type": "code",
   "execution_count": 3,
   "id": "4d0a30df-3cbe-41bd-9479-bbc239697eba",
   "metadata": {},
   "outputs": [
    {
     "name": "stdout",
     "output_type": "stream",
     "text": [
      "\n",
      "Valores únicos por columna:\n",
      "\n",
      "Country Code        1\n",
      "Country Name        1\n",
      "Indicator Code     20\n",
      "Year               22\n",
      "Value             385\n",
      "dtype: int64\n"
     ]
    }
   ],
   "source": [
    "# Contar los valores únicos en cada columna, incluyendo valores NaN\n",
    "valores_unicos = df.nunique(dropna = False)\n",
    "print(\"\\nValores únicos por columna:\\n\")\n",
    "print(valores_unicos)"
   ]
  },
  {
   "cell_type": "code",
   "execution_count": 4,
   "id": "baec4ea3-7597-44e7-b6c8-3c98dd7d70e1",
   "metadata": {},
   "outputs": [
    {
     "name": "stdout",
     "output_type": "stream",
     "text": [
      "\n",
      "Conteos de valores por cada columna no numérica:\n",
      "\n",
      "Conteos para Country Code:\n",
      "Country Code\n",
      "MX    406\n",
      "Name: count, dtype: int64\n",
      "\n",
      "Conteos para Country Name:\n",
      "Country Name\n",
      "Mexico    406\n",
      "Name: count, dtype: int64\n",
      "\n",
      "Conteos para Indicator Code:\n",
      "Indicator Code\n",
      "FR_INR_RINR          22\n",
      "NE_IMP_GNFS_CD       22\n",
      "IT_NET_USER_ZS       22\n",
      "EG_ELC_ACCS_ZS       22\n",
      "SH_XPD_CHEX_GD_ZS    22\n",
      "SL_UEM_TOTL_NE_ZS    22\n",
      "PA_NUS_FCRF          22\n",
      "FI_RES_TOTL_CD       22\n",
      "DT_DOD_DECT_CD       22\n",
      "NE_EXP_GNFS_CD       22\n",
      "FP_CPI_TOTL          22\n",
      "SP_POP_TOTL          22\n",
      "NY_GDP_PCAP_CD       22\n",
      "NY_GDP_MKTP_CD       22\n",
      "SP_DYN_CBRT_IN       22\n",
      "EN_ATM_CO2E_PC       21\n",
      "SE_XPD_TOTL_GD_ZS    20\n",
      "EG_USE_PCAP_KG_OE    16\n",
      "GC_TAX_TOTL_GD_ZS    15\n",
      "GC_DOD_TOTL_GD_ZS     4\n",
      "Name: count, dtype: int64\n",
      "\n"
     ]
    }
   ],
   "source": [
    "# Seleccionar columnas que no son numéricas\n",
    "columnas_no_numericas = df.select_dtypes(exclude = [np.number])\n",
    "# Contar valores por cada columna no numérica\n",
    "conteos_por_columna = {}\n",
    "for columna in columnas_no_numericas.columns:\n",
    "    conteos_por_columna[columna] = df[columna].value_counts(dropna = False)  # dropna=False incluye NaN en el conteo\n",
    "# Imprimir los conteos de valores para cada columna no numérica\n",
    "print(\"\\nConteos de valores por cada columna no numérica:\\n\")\n",
    "for columna, conteo in conteos_por_columna.items():\n",
    "    print(f\"Conteos para {columna}:\\n{conteo}\\n\")"
   ]
  },
  {
   "cell_type": "code",
   "execution_count": 5,
   "id": "9c8341da-7099-4b7d-9fcd-ddbbdcbb2425",
   "metadata": {},
   "outputs": [
    {
     "name": "stdout",
     "output_type": "stream",
     "text": [
      "\n",
      "Valores faltantes por columna:\n",
      "\n",
      "Country Code      0\n",
      "Country Name      0\n",
      "Indicator Code    0\n",
      "Year              0\n",
      "Value             0\n",
      "dtype: int64\n"
     ]
    }
   ],
   "source": [
    "# Contar los valores nulos en cada columna\n",
    "valores_faltantes = df.isnull().sum()\n",
    "print(\"\\nValores faltantes por columna:\\n\")\n",
    "print(valores_faltantes)"
   ]
  },
  {
   "cell_type": "code",
   "execution_count": 6,
   "id": "2013f8da-c183-4d44-9df4-4ffe6fa83a6b",
   "metadata": {},
   "outputs": [
    {
     "name": "stdout",
     "output_type": "stream",
     "text": [
      "\n",
      "Valores actualizados en las columnas numéricas:\n",
      "\n",
      "    Country Code Country Name  Indicator Code  Year  Value\n",
      "0             MX       Mexico     FR_INR_RINR  2021   0.70\n",
      "1             MX       Mexico     FR_INR_RINR  2020   1.45\n",
      "2             MX       Mexico     FR_INR_RINR  2019   4.00\n",
      "3             MX       Mexico     FR_INR_RINR  2018   2.70\n",
      "4             MX       Mexico     FR_INR_RINR  2017   0.72\n",
      "..           ...          ...             ...   ...    ...\n",
      "401           MX       Mexico  SP_DYN_CBRT_IN  2004  22.35\n",
      "402           MX       Mexico  SP_DYN_CBRT_IN  2003  22.80\n",
      "403           MX       Mexico  SP_DYN_CBRT_IN  2002  23.26\n",
      "404           MX       Mexico  SP_DYN_CBRT_IN  2001  23.72\n",
      "405           MX       Mexico  SP_DYN_CBRT_IN  2000  24.16\n",
      "\n",
      "[406 rows x 5 columns]\n"
     ]
    }
   ],
   "source": [
    "# Calcular la media de cada columna numérica en el DataFrame\n",
    "medias = df.select_dtypes(include = [np.number]).mean()\n",
    "# Reemplazar los valores nulos en las columnas numéricas con su respectiva media\n",
    "df.fillna(medias, inplace = True)\n",
    "# Imprimir las columnas con valores actualizados para verificar\n",
    "print(\"\\nValores actualizados en las columnas numéricas:\\n\")\n",
    "print(df)"
   ]
  },
  {
   "cell_type": "code",
   "execution_count": 7,
   "id": "f4a6f761-dfe4-4ab5-9d21-f98d75b7ec50",
   "metadata": {},
   "outputs": [
    {
     "name": "stdout",
     "output_type": "stream",
     "text": [
      "\n",
      "Número total de filas duplicadas antes de eliminar:\n",
      "\n",
      "0\n"
     ]
    }
   ],
   "source": [
    "# Detectar duplicados en cada fila del DataFrame\n",
    "duplicados_por_filas_antes = df.duplicated().sum()\n",
    "print(\"\\nNúmero total de filas duplicadas antes de eliminar:\\n\")\n",
    "print(duplicados_por_filas_antes)"
   ]
  },
  {
   "cell_type": "code",
   "execution_count": 8,
   "id": "6ead1c8c-e87a-47c7-965f-cbde65573cf9",
   "metadata": {},
   "outputs": [
    {
     "name": "stdout",
     "output_type": "stream",
     "text": [
      "\n",
      "Número total de filas duplicadas después de eliminar:\n",
      "\n",
      "0\n"
     ]
    }
   ],
   "source": [
    "# Eliminar filas duplicadas, manteniendo la primera aparición\n",
    "df.drop_duplicates(inplace = True)\n",
    "# Contar y mostrar el número de filas duplicadas después de eliminarlas\n",
    "duplicados_por_filas_despues = df.duplicated().sum()\n",
    "print(\"\\nNúmero total de filas duplicadas después de eliminar:\\n\")\n",
    "print(duplicados_por_filas_despues)"
   ]
  },
  {
   "cell_type": "code",
   "execution_count": 9,
   "id": "e9791cf9-fbed-42a9-8640-15a0e670ffe2",
   "metadata": {},
   "outputs": [
    {
     "name": "stdout",
     "output_type": "stream",
     "text": [
      "\n",
      "Duplicados por columna:\n",
      "\n",
      "{'Country Code': 405, 'Country Name': 405, 'Indicator Code': 386, 'Year': 384, 'Value': 21}\n"
     ]
    }
   ],
   "source": [
    "# Detectar duplicados en cada columna del DataFrame\n",
    "duplicados_por_columna = {col: df[col].duplicated().sum() for col in df.columns}\n",
    "print(\"\\nDuplicados por columna:\\n\")\n",
    "print(duplicados_por_columna)"
   ]
  },
  {
   "cell_type": "code",
   "execution_count": 10,
   "id": "63b8b149-75f9-4215-a672-f14a5e22702d",
   "metadata": {
    "tags": []
   },
   "outputs": [
    {
     "name": "stdout",
     "output_type": "stream",
     "text": [
      "\n",
      "Estadísticas descriptivas:\n",
      "\n",
      "       Country Code Country Name Indicator Code         Year         Value\n",
      "count           406          406            406   406.000000  4.060000e+02\n",
      "unique            1            1             20          NaN           NaN\n",
      "top              MX       Mexico    FR_INR_RINR          NaN           NaN\n",
      "freq            406          406             22          NaN           NaN\n",
      "mean            NaN          NaN            NaN  2010.465517  1.237979e+11\n",
      "std             NaN          NaN            NaN     6.322411  2.748893e+11\n",
      "min             NaN          NaN            NaN  2000.000000 -1.250000e+00\n",
      "25%             NaN          NaN            NaN  2005.000000  5.817500e+00\n",
      "50%             NaN          NaN            NaN  2010.500000  9.725000e+01\n",
      "75%             NaN          NaN            NaN  2016.000000  9.327692e+10\n",
      "max             NaN          NaN            NaN  2021.000000  1.364508e+12\n"
     ]
    }
   ],
   "source": [
    "# Obtener estadísticas descriptivas del DataFrame\n",
    "estadisticas_descriptivas = df.describe(include = 'all')\n",
    "print(\"\\nEstadísticas descriptivas:\\n\")\n",
    "print(estadisticas_descriptivas)"
   ]
  },
  {
   "cell_type": "markdown",
   "id": "2da11b87-3739-46a9-ae74-e6f424cf02e0",
   "metadata": {},
   "source": [
    "## Estructura de la tabla"
   ]
  },
  {
   "cell_type": "code",
   "execution_count": 11,
   "id": "f79f54a9-5813-4f67-9d4c-cc20719af75f",
   "metadata": {
    "tags": []
   },
   "outputs": [
    {
     "name": "stderr",
     "output_type": "stream",
     "text": [
      "Cargando datos: 100%|████████████████████████████████████████████████████████████████| 406/406 [01:32<00:00,  4.39it/s]\n"
     ]
    }
   ],
   "source": [
    "def cargar_datos_a_redshift(df):\n",
    "    \"\"\"\n",
    "    Conecta a una base de datos de Redshift, crea una tabla si no existe, \n",
    "    inserta datos desde un DataFrame de pandas y cierra la conexión.\n",
    "    \n",
    "    Parámetros:\n",
    "        df (pandas.DataFrame): DataFrame que contiene los datos a cargar.\n",
    "    \n",
    "    Retorna:\n",
    "        None\n",
    "    \"\"\"\n",
    "    # Datos de configuración para la conexión\n",
    "    url = 'data-engineer-cluster.cyhh5bfevlmn.us-east-1.redshift.amazonaws.com'\n",
    "    base_de_datos = 'data-engineer-database'\n",
    "    archivo_usuario = 'C:/Users/jeshu/Videos/GitHub/CoderHouseDataEngineering/Code/user_redshift.txt'\n",
    "    archivo_contraseña = 'C:/Users/jeshu/Videos/GitHub/CoderHouseDataEngineering/Code/password_redshift.txt'\n",
    "    \n",
    "    # Leer el usuario y la contraseña de los archivos\n",
    "    with open(archivo_usuario, 'r') as f:\n",
    "        usuario = f.read().strip()\n",
    "    with open(archivo_contraseña, 'r') as f:\n",
    "        contraseña = f.read().strip()\n",
    "\n",
    "    # Establecer la conexión con la base de datos de Redshift\n",
    "    conn = psycopg2.connect(\n",
    "        host=url,\n",
    "        dbname=base_de_datos,\n",
    "        user=usuario,\n",
    "        password=contraseña,\n",
    "        port=5439\n",
    "    )\n",
    "    conn.autocommit = True\n",
    "    cursor = conn.cursor()\n",
    "\n",
    "    # Crear tabla si no existe\n",
    "    create_table_query = \"\"\"\n",
    "    DROP TABLE IF EXISTS economic_data;\n",
    "    CREATE TABLE economic_data (\n",
    "        \"Country Code\" VARCHAR NOT NULL,\n",
    "        \"Country Name\" VARCHAR NOT NULL,\n",
    "        \"Indicator Code\" VARCHAR NOT NULL,\n",
    "        \"Year\" INTEGER NOT NULL,\n",
    "        \"Value\" FLOAT,\n",
    "        PRIMARY KEY (\"Country Code\", \"Indicator Code\", \"Year\")\n",
    "    );\n",
    "    \"\"\"\n",
    "    cursor.execute(create_table_query)\n",
    "\n",
    "    # Insertar datos desde el DataFrame\n",
    "    insert_query = \"\"\"\n",
    "    INSERT INTO economic_data (\"Country Code\", \"Country Name\", \"Indicator Code\", \"Year\", \"Value\") VALUES (%s, %s, %s, %s, %s);\n",
    "    \"\"\"\n",
    "    for index, row in tqdm(df.iterrows(), total=df.shape[0], desc=\"Cargando datos\"):\n",
    "        cursor.execute(insert_query, (row['Country Code'], row['Country Name'], row['Indicator Code'], row['Year'], row['Value']))\n",
    "\n",
    "    # Cerrar la conexión\n",
    "    cursor.close()\n",
    "    conn.close()\n",
    "\n",
    "cargar_datos_a_redshift(df)"
   ]
  },
  {
   "cell_type": "markdown",
   "id": "05e29234-7fed-4894-9936-88147b2ccdde",
   "metadata": {},
   "source": [
    "## Variedad de los datos"
   ]
  },
  {
   "cell_type": "code",
   "execution_count": 12,
   "id": "fc85ad71-6c7e-468c-8ce6-58e4737ff996",
   "metadata": {
    "tags": []
   },
   "outputs": [
    {
     "name": "stdout",
     "output_type": "stream",
     "text": [
      "    country code country name  indicator code  year  value\n",
      "0             MX       Mexico     FR_INR_RINR  2021   0.70\n",
      "1             MX       Mexico     FR_INR_RINR  2020   1.45\n",
      "2             MX       Mexico     FR_INR_RINR  2019   4.00\n",
      "3             MX       Mexico     FR_INR_RINR  2018   2.70\n",
      "4             MX       Mexico     FR_INR_RINR  2017   0.72\n",
      "..           ...          ...             ...   ...    ...\n",
      "401           MX       Mexico  SP_DYN_CBRT_IN  2004  22.35\n",
      "402           MX       Mexico  SP_DYN_CBRT_IN  2003  22.80\n",
      "403           MX       Mexico  SP_DYN_CBRT_IN  2002  23.26\n",
      "404           MX       Mexico  SP_DYN_CBRT_IN  2001  23.72\n",
      "405           MX       Mexico  SP_DYN_CBRT_IN  2000  24.16\n",
      "\n",
      "[406 rows x 5 columns]\n"
     ]
    }
   ],
   "source": [
    "def obtener_datos_de_redshift():\n",
    "    \"\"\"\n",
    "    Establece una conexión con una base de datos de Redshift, ejecuta una consulta para \n",
    "    recuperar todos los datos de la tabla 'economic_data', convierte los datos en un \n",
    "    DataFrame de pandas y cierra la conexión.\n",
    "\n",
    "    Retorna:\n",
    "        pandas.DataFrame: DataFrame que contiene los datos recuperados de la tabla.\n",
    "    \"\"\"\n",
    "    # Datos de configuración para la conexión\n",
    "    url = 'data-engineer-cluster.cyhh5bfevlmn.us-east-1.redshift.amazonaws.com'\n",
    "    base_de_datos = 'data-engineer-database'\n",
    "    archivo_usuario = 'C:/Users/jeshu/Videos/GitHub/CoderHouseDataEngineering/Code/user_redshift.txt'\n",
    "    archivo_contraseña = 'C:/Users/jeshu/Videos/GitHub/CoderHouseDataEngineering/Code/password_redshift.txt'\n",
    "    \n",
    "    # Leer el usuario y la contraseña de los archivos\n",
    "    with open(archivo_usuario, 'r') as f:\n",
    "        usuario = f.read().strip()\n",
    "    with open(archivo_contraseña, 'r') as f:\n",
    "        contraseña = f.read().strip()\n",
    "\n",
    "    # Establecer la conexión con la base de datos\n",
    "    conn = psycopg2.connect(\n",
    "        host=url,\n",
    "        dbname=base_de_datos,\n",
    "        user=usuario,\n",
    "        password=contraseña,\n",
    "        port=5439\n",
    "    )\n",
    "    cursor = conn.cursor()\n",
    "\n",
    "    # Ejecutar la consulta\n",
    "    query = \"SELECT * FROM economic_data;\"\n",
    "    cursor.execute(query)\n",
    "\n",
    "    # Recuperar todos los datos\n",
    "    data = cursor.fetchall()\n",
    "\n",
    "    # Convertir los datos en un DataFrame para facilitar su manejo\n",
    "    df = pd.DataFrame(data, columns=[desc[0] for desc in cursor.description])\n",
    "\n",
    "    # Cerrar la conexión\n",
    "    cursor.close()\n",
    "    conn.close()\n",
    "\n",
    "    return df\n",
    "\n",
    "df = obtener_datos_de_redshift()\n",
    "print(df)"
   ]
  }
 ],
 "metadata": {
  "kernelspec": {
   "display_name": "Python 3 (ipykernel)",
   "language": "python",
   "name": "python3"
  },
  "language_info": {
   "codemirror_mode": {
    "name": "ipython",
    "version": 3
   },
   "file_extension": ".py",
   "mimetype": "text/x-python",
   "name": "python",
   "nbconvert_exporter": "python",
   "pygments_lexer": "ipython3",
   "version": "3.11.5"
  }
 },
 "nbformat": 4,
 "nbformat_minor": 5
}
