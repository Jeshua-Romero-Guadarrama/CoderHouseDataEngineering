{
 "cells": [
  {
   "cell_type": "markdown",
   "id": "8612e576-e1fb-42df-8077-ac4fec4fd93a",
   "metadata": {},
   "source": [
    "# Coder House Data Engineering"
   ]
  },
  {
   "cell_type": "markdown",
   "id": "727bc666-33f0-4270-807e-9a069904a77d",
   "metadata": {
    "tags": []
   },
   "source": [
    "Desarrollar un script que extraiga datos de una API pública. A su vez, el alumno debe crear una tabla en\n",
    "Redshift para posterior carga de los datos extraidos."
   ]
  },
  {
   "cell_type": "code",
   "execution_count": 1,
   "id": "afd052de-b882-419d-9c9a-250d5114802a",
   "metadata": {
    "tags": []
   },
   "outputs": [],
   "source": [
    "import psycopg2\n",
    "import requests\n",
    "from tqdm import tqdm\n",
    "import pandas as pd\n",
    "import datetime"
   ]
  },
  {
   "cell_type": "markdown",
   "id": "b8953154-66df-4d1c-8094-bbc85d1e25a6",
   "metadata": {},
   "source": [
    "## Elección de la API"
   ]
  },
  {
   "cell_type": "code",
   "execution_count": 2,
   "id": "7ab4b54e-78c8-4f41-9bcb-dc2b8ec8b93f",
   "metadata": {
    "tags": []
   },
   "outputs": [
    {
     "name": "stderr",
     "output_type": "stream",
     "text": [
      "Procesando países:   0%|                                                                                                             | 0/1 [00:00<?, ?it/s]\n",
      "Indicadores para MEX:   0%|                                                                                                         | 0/20 [00:00<?, ?it/s]\u001b[A\n",
      "Indicadores para MEX:   5%|████▊                                                                                            | 1/20 [00:00<00:09,  2.07it/s]\u001b[A\n",
      "Indicadores para MEX:  10%|█████████▋                                                                                       | 2/20 [00:00<00:08,  2.08it/s]\u001b[A\n",
      "Indicadores para MEX:  15%|██████████████▌                                                                                  | 3/20 [00:01<00:07,  2.17it/s]\u001b[A\n",
      "Indicadores para MEX:  20%|███████████████████▍                                                                             | 4/20 [00:01<00:07,  2.22it/s]\u001b[A\n",
      "Indicadores para MEX:  25%|████████████████████████▎                                                                        | 5/20 [00:02<00:06,  2.30it/s]\u001b[A\n",
      "Indicadores para MEX:  30%|█████████████████████████████                                                                    | 6/20 [00:02<00:07,  1.95it/s]\u001b[A\n",
      "Indicadores para MEX:  35%|█████████████████████████████████▉                                                               | 7/20 [00:03<00:06,  2.17it/s]\u001b[A\n",
      "Indicadores para MEX:  40%|██████████████████████████████████████▊                                                          | 8/20 [00:03<00:05,  2.39it/s]\u001b[A\n",
      "Indicadores para MEX:  45%|███████████████████████████████████████████▋                                                     | 9/20 [00:03<00:04,  2.49it/s]\u001b[A\n",
      "Indicadores para MEX:  50%|████████████████████████████████████████████████                                                | 10/20 [00:04<00:03,  2.67it/s]\u001b[A\n",
      "Indicadores para MEX:  55%|████████████████████████████████████████████████████▊                                           | 11/20 [00:04<00:03,  2.80it/s]\u001b[A\n",
      "Indicadores para MEX:  60%|█████████████████████████████████████████████████████████▌                                      | 12/20 [00:04<00:02,  2.76it/s]\u001b[A\n",
      "Indicadores para MEX:  65%|██████████████████████████████████████████████████████████████▍                                 | 13/20 [00:05<00:02,  2.87it/s]\u001b[A\n",
      "Indicadores para MEX:  70%|███████████████████████████████████████████████████████████████████▏                            | 14/20 [00:05<00:02,  2.61it/s]\u001b[A\n",
      "Indicadores para MEX:  75%|████████████████████████████████████████████████████████████████████████                        | 15/20 [00:06<00:01,  2.64it/s]\u001b[A\n",
      "Indicadores para MEX:  80%|████████████████████████████████████████████████████████████████████████████▊                   | 16/20 [00:06<00:01,  2.82it/s]\u001b[A\n",
      "Indicadores para MEX:  85%|█████████████████████████████████████████████████████████████████████████████████▌              | 17/20 [00:06<00:01,  2.84it/s]\u001b[A\n",
      "Indicadores para MEX:  90%|██████████████████████████████████████████████████████████████████████████████████████▍         | 18/20 [00:07<00:00,  2.60it/s]\u001b[A\n",
      "Indicadores para MEX:  95%|███████████████████████████████████████████████████████████████████████████████████████████▏    | 19/20 [00:07<00:00,  2.68it/s]\u001b[A\n",
      "Indicadores para MEX: 100%|████████████████████████████████████████████████████████████████████████████████████████████████| 20/20 [00:08<00:00,  2.49it/s]\u001b[A\n",
      "Procesando países: 100%|█████████████████████████████████████████████████████████████████████████████████████████████████████| 1/1 [00:08<00:00,  8.07s/it]"
     ]
    },
    {
     "name": "stdout",
     "output_type": "stream",
     "text": [
      "    Country Code Country Name  Indicator Code  Year  Value\n",
      "0             MX       Mexico     FR_INR_RINR  2021   0.70\n",
      "1             MX       Mexico     FR_INR_RINR  2020   1.45\n",
      "2             MX       Mexico     FR_INR_RINR  2019   4.00\n",
      "3             MX       Mexico     FR_INR_RINR  2018   2.70\n",
      "4             MX       Mexico     FR_INR_RINR  2017   0.72\n",
      "..           ...          ...             ...   ...    ...\n",
      "401           MX       Mexico  SP_DYN_CBRT_IN  2004  22.35\n",
      "402           MX       Mexico  SP_DYN_CBRT_IN  2003  22.80\n",
      "403           MX       Mexico  SP_DYN_CBRT_IN  2002  23.26\n",
      "404           MX       Mexico  SP_DYN_CBRT_IN  2001  23.72\n",
      "405           MX       Mexico  SP_DYN_CBRT_IN  2000  24.16\n",
      "\n",
      "[406 rows x 5 columns]\n"
     ]
    },
    {
     "name": "stderr",
     "output_type": "stream",
     "text": [
      "\n"
     ]
    }
   ],
   "source": [
    "def obtener_datos_desde_api(codigo_pais, codigo_indicador):\n",
    "    \"\"\"\n",
    "    Realiza una petición a la API del Banco Mundial para obtener datos de un indicador específico de un país.\n",
    "    \n",
    "    Parámetros:\n",
    "    - codigo_pais (str): El código ISO del país.\n",
    "    - codigo_indicador (str): El código del indicador económico.\n",
    "    \n",
    "    Retorna:\n",
    "    - list: Lista de datos obtenidos de la API, o una lista vacía si hubo un error o no se encontraron datos.\n",
    "    \"\"\"\n",
    "    url = f\"http://api.worldbank.org/v2/country/{codigo_pais}/indicator/{codigo_indicador}?format=json&date=2000:2021\"\n",
    "    try:\n",
    "        response = requests.get(url)\n",
    "        data = response.json()\n",
    "        if len(data) == 2 and 'page' in data[0]:\n",
    "            return data[1]  # data[1] contiene los datos reales\n",
    "    except requests.RequestException as e:\n",
    "        print(f\"Error al obtener datos desde la API: {e}\")\n",
    "    return []\n",
    "\n",
    "def transformar_datos(datos_crudos):\n",
    "    \"\"\"\n",
    "    Transforma los datos crudos obtenidos de la API en una lista de diccionarios, preparados para ser convertidos en DataFrame.\n",
    "    \n",
    "    Parámetros:\n",
    "    - datos_crudos (list): Lista de datos crudos obtenidos de la API.\n",
    "    \n",
    "    Retorna:\n",
    "    - list: Lista de diccionarios con los datos transformados, adecuados para conversión a DataFrame.\n",
    "    \"\"\"\n",
    "    if datos_crudos:\n",
    "        return [\n",
    "            {'Country Code': dato.get('country', {}).get('id', 'N/A'),\n",
    "             'Country Name': dato.get('country', {}).get('value', 'N/A'),\n",
    "             'Indicator Code': dato.get('indicator', {}).get('id', 'N/A'),\n",
    "             'Year': int(dato.get('date', '1900')),\n",
    "             'Value': dato.get('value', None),}\n",
    "            for dato in datos_crudos if dato.get('value') is not None\n",
    "        ]\n",
    "    return []\n",
    "\n",
    "# Inicializar sesión de requests\n",
    "session = requests.Session()\n",
    "\n",
    "# Indicadores y países\n",
    "indicadores = ['FR.INR.RINR', 'PA.NUS.FCRF', 'NY.GDP.MKTP.CD', 'NY.GDP.PCAP.CD', 'SP.POP.TOTL', 'FP.CPI.TOTL', 'GC.DOD.TOTL.GD.ZS', 'NE.EXP.GNFS.CD', 'NE.IMP.GNFS.CD', 'FI.RES.TOTL.CD', 'DT.DOD.DECT.CD', 'GC.TAX.TOTL.GD.ZS', 'SL.UEM.TOTL.NE.ZS', 'SH.XPD.CHEX.GD.ZS', 'SE.XPD.TOTL.GD.ZS', 'EG.ELC.ACCS.ZS', 'EG.USE.PCAP.KG.OE', 'EN.ATM.CO2E.PC', 'IT.NET.USER.ZS', 'SP.DYN.CBRT.IN']\n",
    "indicadores_sanitizados = [indicador.replace('.', '_') for indicador in indicadores]\n",
    "paises = ['MEX']\n",
    "\n",
    "resultados = []\n",
    "for pais in tqdm(paises, desc=\"Procesando países\"):\n",
    "    for indicador in tqdm(indicadores, desc=f\"Indicadores para {pais}\"):\n",
    "        datos_crudos = obtener_datos_desde_api(pais, indicador)\n",
    "        resultados.extend(transformar_datos(datos_crudos))\n",
    "\n",
    "# Crear DataFrame\n",
    "df = pd.DataFrame(resultados)\n",
    "\n",
    "# Reemplazar puntos por guiones bajos en los nombres de los indicadores en el DataFrame\n",
    "df['Indicator Code'] = df['Indicator Code'].str.replace('.', '_')\n",
    "df['Value'] = df['Value'].round(2)\n",
    "print(df)"
   ]
  },
  {
   "cell_type": "markdown",
   "id": "2da11b87-3739-46a9-ae74-e6f424cf02e0",
   "metadata": {},
   "source": [
    "## Estructura de la tabla"
   ]
  },
  {
   "cell_type": "code",
   "execution_count": 3,
   "id": "f79f54a9-5813-4f67-9d4c-cc20719af75f",
   "metadata": {
    "tags": []
   },
   "outputs": [
    {
     "name": "stderr",
     "output_type": "stream",
     "text": [
      "Cargando datos: 100%|████████████████████████████████████████████████████████████████████████████████████████████████████| 406/406 [01:40<00:00,  4.04it/s]\n"
     ]
    }
   ],
   "source": [
    "def cargar_datos_a_redshift(df):\n",
    "    \"\"\"\n",
    "    Conecta a una base de datos de Redshift, crea una tabla si no existe, \n",
    "    inserta datos desde un DataFrame de pandas y cierra la conexión.\n",
    "    \n",
    "    Parámetros:\n",
    "        df (pandas.DataFrame): DataFrame que contiene los datos a cargar.\n",
    "    \n",
    "    Retorna:\n",
    "        None\n",
    "    \"\"\"\n",
    "    # Datos de configuración para la conexión\n",
    "    url = 'data-engineer-cluster.cyhh5bfevlmn.us-east-1.redshift.amazonaws.com'\n",
    "    base_de_datos = 'data-engineer-database'\n",
    "    archivo_usuario = 'C:/Users/jeshu/Videos/GitHub/CoderHouseDataEngineering/Code/user_redshift.txt'\n",
    "    archivo_contraseña = 'C:/Users/jeshu/Videos/GitHub/CoderHouseDataEngineering/Code/password_redshift.txt'\n",
    "    \n",
    "    # Leer el usuario y la contraseña de los archivos\n",
    "    with open(archivo_usuario, 'r') as f:\n",
    "        usuario = f.read().strip()\n",
    "    with open(archivo_contraseña, 'r') as f:\n",
    "        contraseña = f.read().strip()\n",
    "\n",
    "    # Establecer la conexión con la base de datos de Redshift\n",
    "    conn = psycopg2.connect(\n",
    "        host=url,\n",
    "        dbname=base_de_datos,\n",
    "        user=usuario,\n",
    "        password=contraseña,\n",
    "        port=5439\n",
    "    )\n",
    "    conn.autocommit = True\n",
    "    cursor = conn.cursor()\n",
    "\n",
    "    # Crear tabla si no existe\n",
    "    create_table_query = \"\"\"\n",
    "    DROP TABLE IF EXISTS economic_data;\n",
    "    CREATE TABLE economic_data (\n",
    "        \"Country Code\" VARCHAR NOT NULL,\n",
    "        \"Country Name\" VARCHAR NOT NULL,\n",
    "        \"Indicator Code\" VARCHAR NOT NULL,\n",
    "        \"Year\" INTEGER NOT NULL,\n",
    "        \"Value\" FLOAT\n",
    "    );\n",
    "    \"\"\"\n",
    "    cursor.execute(create_table_query)\n",
    "\n",
    "    # Insertar datos desde el DataFrame\n",
    "    insert_query = \"\"\"\n",
    "    INSERT INTO economic_data (\"Country Code\", \"Country Name\", \"Indicator Code\", \"Year\", \"Value\") VALUES (%s, %s, %s, %s, %s);\n",
    "    \"\"\"\n",
    "    for index, row in tqdm(df.iterrows(), total=df.shape[0], desc=\"Cargando datos\"):\n",
    "        cursor.execute(insert_query, (row['Country Code'], row['Country Name'], row['Indicator Code'], row['Year'], row['Value']))\n",
    "\n",
    "    # Cerrar la conexión\n",
    "    cursor.close()\n",
    "    conn.close()\n",
    "\n",
    "cargar_datos_a_redshift(df)"
   ]
  },
  {
   "cell_type": "markdown",
   "id": "05e29234-7fed-4894-9936-88147b2ccdde",
   "metadata": {},
   "source": [
    "## Variedad de los datos"
   ]
  },
  {
   "cell_type": "code",
   "execution_count": 4,
   "id": "fc85ad71-6c7e-468c-8ce6-58e4737ff996",
   "metadata": {
    "tags": []
   },
   "outputs": [
    {
     "name": "stdout",
     "output_type": "stream",
     "text": [
      "    country code country name  indicator code  year  value\n",
      "0             MX       Mexico     FR_INR_RINR  2021   0.70\n",
      "1             MX       Mexico     FR_INR_RINR  2020   1.45\n",
      "2             MX       Mexico     FR_INR_RINR  2019   4.00\n",
      "3             MX       Mexico     FR_INR_RINR  2018   2.70\n",
      "4             MX       Mexico     FR_INR_RINR  2017   0.72\n",
      "..           ...          ...             ...   ...    ...\n",
      "401           MX       Mexico  SP_DYN_CBRT_IN  2004  22.35\n",
      "402           MX       Mexico  SP_DYN_CBRT_IN  2003  22.80\n",
      "403           MX       Mexico  SP_DYN_CBRT_IN  2002  23.26\n",
      "404           MX       Mexico  SP_DYN_CBRT_IN  2001  23.72\n",
      "405           MX       Mexico  SP_DYN_CBRT_IN  2000  24.16\n",
      "\n",
      "[406 rows x 5 columns]\n"
     ]
    }
   ],
   "source": [
    "def obtener_datos_de_redshift():\n",
    "    \"\"\"\n",
    "    Establece una conexión con una base de datos de Redshift, ejecuta una consulta para \n",
    "    recuperar todos los datos de la tabla 'economic_data', convierte los datos en un \n",
    "    DataFrame de pandas y cierra la conexión.\n",
    "\n",
    "    Retorna:\n",
    "        pandas.DataFrame: DataFrame que contiene los datos recuperados de la tabla.\n",
    "    \"\"\"\n",
    "    # Datos de configuración para la conexión\n",
    "    url = 'data-engineer-cluster.cyhh5bfevlmn.us-east-1.redshift.amazonaws.com'\n",
    "    base_de_datos = 'data-engineer-database'\n",
    "    archivo_usuario = 'C:/Users/jeshu/Videos/GitHub/CoderHouseDataEngineering/Code/user_redshift.txt'\n",
    "    archivo_contraseña = 'C:/Users/jeshu/Videos/GitHub/CoderHouseDataEngineering/Code/password_redshift.txt'\n",
    "    \n",
    "    # Leer el usuario y la contraseña de los archivos\n",
    "    with open(archivo_usuario, 'r') as f:\n",
    "        usuario = f.read().strip()\n",
    "    with open(archivo_contraseña, 'r') as f:\n",
    "        contraseña = f.read().strip()\n",
    "\n",
    "    # Establecer la conexión con la base de datos\n",
    "    conn = psycopg2.connect(\n",
    "        host=url,\n",
    "        dbname=base_de_datos,\n",
    "        user=usuario,\n",
    "        password=contraseña,\n",
    "        port=5439\n",
    "    )\n",
    "    cursor = conn.cursor()\n",
    "\n",
    "    # Ejecutar la consulta\n",
    "    query = \"SELECT * FROM economic_data;\"\n",
    "    cursor.execute(query)\n",
    "\n",
    "    # Recuperar todos los datos\n",
    "    data = cursor.fetchall()\n",
    "\n",
    "    # Convertir los datos en un DataFrame para facilitar su manejo\n",
    "    df = pd.DataFrame(data, columns=[desc[0] for desc in cursor.description])\n",
    "\n",
    "    # Cerrar la conexión\n",
    "    cursor.close()\n",
    "    conn.close()\n",
    "\n",
    "    return df\n",
    "\n",
    "df = obtener_datos_de_redshift()\n",
    "print(df)"
   ]
  }
 ],
 "metadata": {
  "kernelspec": {
   "display_name": "Python 3 (ipykernel)",
   "language": "python",
   "name": "python3"
  },
  "language_info": {
   "codemirror_mode": {
    "name": "ipython",
    "version": 3
   },
   "file_extension": ".py",
   "mimetype": "text/x-python",
   "name": "python",
   "nbconvert_exporter": "python",
   "pygments_lexer": "ipython3",
   "version": "3.11.5"
  }
 },
 "nbformat": 4,
 "nbformat_minor": 5
}
