{
 "cells": [
  {
   "cell_type": "markdown",
   "id": "8612e576-e1fb-42df-8077-ac4fec4fd93a",
   "metadata": {},
   "source": [
    "# Checklist Pre- entrega"
   ]
  },
  {
   "cell_type": "markdown",
   "id": "727bc666-33f0-4270-807e-9a069904a77d",
   "metadata": {
    "tags": []
   },
   "source": [
    "Desarrollar un script que extraiga datos de una API pública. A su vez, el alumno debe crear una tabla en\n",
    "Redshift para posterior carga de los datos extraidos."
   ]
  },
  {
   "cell_type": "code",
   "execution_count": 1,
   "id": "afd052de-b882-419d-9c9a-250d5114802a",
   "metadata": {
    "tags": []
   },
   "outputs": [],
   "source": [
    "import psycopg2\n",
    "import requests\n",
    "from tqdm import tqdm\n",
    "import pandas as pd\n",
    "import datetime\n",
    "\n",
    "# Datos de configuración para la conexión\n",
    "url = 'data-engineer-cluster.cyhh5bfevlmn.us-east-1.redshift.amazonaws.com'\n",
    "base_de_datos = 'data-engineer-database'\n",
    "archivo_usuario = 'C:/Users/jeshu/Documents/user_redshift.txt'\n",
    "archivo_contraseña = 'C:/Users/jeshu/Documents/password_redshift.txt'"
   ]
  },
  {
   "cell_type": "markdown",
   "id": "b8953154-66df-4d1c-8094-bbc85d1e25a6",
   "metadata": {},
   "source": [
    "## Elección de la API"
   ]
  },
  {
   "cell_type": "code",
   "execution_count": 30,
   "id": "7ab4b54e-78c8-4f41-9bcb-dc2b8ec8b93f",
   "metadata": {
    "tags": []
   },
   "outputs": [
    {
     "name": "stderr",
     "output_type": "stream",
     "text": [
      "Procesando países:   0%|                                                                         | 0/1 [00:00<?, ?it/s]\n",
      "Indicadores para MEX:   0%|                                                                     | 0/20 [00:00<?, ?it/s]\u001b[A\n",
      "Indicadores para MEX:   5%|███                                                          | 1/20 [00:00<00:11,  1.65it/s]\u001b[A\n",
      "Indicadores para MEX:  10%|██████                                                       | 2/20 [00:00<00:08,  2.23it/s]\u001b[A\n",
      "Indicadores para MEX:  15%|█████████▏                                                   | 3/20 [00:01<00:08,  1.89it/s]\u001b[A\n",
      "Indicadores para MEX:  20%|████████████▏                                                | 4/20 [00:01<00:07,  2.23it/s]\u001b[A\n",
      "Indicadores para MEX:  25%|███████████████▎                                             | 5/20 [00:02<00:06,  2.47it/s]\u001b[A\n",
      "Indicadores para MEX:  30%|██████████████████▎                                          | 6/20 [00:02<00:05,  2.63it/s]\u001b[A\n",
      "Indicadores para MEX:  35%|█████████████████████▎                                       | 7/20 [00:03<00:05,  2.49it/s]\u001b[A\n",
      "Indicadores para MEX:  40%|████████████████████████▍                                    | 8/20 [00:03<00:04,  2.47it/s]\u001b[A\n",
      "Indicadores para MEX:  45%|███████████████████████████▍                                 | 9/20 [00:03<00:04,  2.70it/s]\u001b[A\n",
      "Indicadores para MEX:  50%|██████████████████████████████                              | 10/20 [00:04<00:03,  2.68it/s]\u001b[A\n",
      "Indicadores para MEX:  55%|█████████████████████████████████                           | 11/20 [00:04<00:03,  2.53it/s]\u001b[A\n",
      "Indicadores para MEX:  60%|████████████████████████████████████                        | 12/20 [00:04<00:02,  2.69it/s]\u001b[A\n",
      "Indicadores para MEX:  65%|███████████████████████████████████████                     | 13/20 [00:05<00:02,  2.65it/s]\u001b[A\n",
      "Indicadores para MEX:  70%|██████████████████████████████████████████                  | 14/20 [00:05<00:02,  2.77it/s]\u001b[A\n",
      "Indicadores para MEX:  75%|█████████████████████████████████████████████               | 15/20 [00:06<00:01,  2.52it/s]\u001b[A\n",
      "Indicadores para MEX:  80%|████████████████████████████████████████████████            | 16/20 [00:06<00:01,  2.55it/s]\u001b[A\n",
      "Indicadores para MEX:  85%|███████████████████████████████████████████████████         | 17/20 [00:06<00:01,  2.73it/s]\u001b[A\n",
      "Indicadores para MEX:  90%|██████████████████████████████████████████████████████      | 18/20 [00:07<00:00,  2.88it/s]\u001b[A\n",
      "Indicadores para MEX:  95%|█████████████████████████████████████████████████████████   | 19/20 [00:07<00:00,  2.63it/s]\u001b[A\n",
      "Indicadores para MEX: 100%|████████████████████████████████████████████████████████████| 20/20 [00:07<00:00,  2.57it/s]\u001b[A\n",
      "Procesando países: 100%|█████████████████████████████████████████████████████████████████| 1/1 [00:07<00:00,  7.78s/it]"
     ]
    },
    {
     "name": "stdout",
     "output_type": "stream",
     "text": [
      "    Country Code Country Name  Indicator Code  Year      Value\n",
      "0             MX       Mexico     FR_INR_RINR  2021   0.697497\n",
      "1             MX       Mexico     FR_INR_RINR  2020   1.452698\n",
      "2             MX       Mexico     FR_INR_RINR  2019   3.999376\n",
      "3             MX       Mexico     FR_INR_RINR  2018   2.695227\n",
      "4             MX       Mexico     FR_INR_RINR  2017   0.717765\n",
      "..           ...          ...             ...   ...        ...\n",
      "401           MX       Mexico  SP_DYN_CBRT_IN  2004  22.351000\n",
      "402           MX       Mexico  SP_DYN_CBRT_IN  2003  22.802000\n",
      "403           MX       Mexico  SP_DYN_CBRT_IN  2002  23.256000\n",
      "404           MX       Mexico  SP_DYN_CBRT_IN  2001  23.717000\n",
      "405           MX       Mexico  SP_DYN_CBRT_IN  2000  24.158000\n",
      "\n",
      "[406 rows x 5 columns]\n"
     ]
    },
    {
     "name": "stderr",
     "output_type": "stream",
     "text": [
      "\n"
     ]
    }
   ],
   "source": [
    "def obtener_datos_desde_api(codigo_pais, codigo_indicador):\n",
    "    \"\"\"\n",
    "    Realiza una petición a la API del Banco Mundial para obtener datos de un indicador específico de un país.\n",
    "    \n",
    "    Parámetros:\n",
    "    - codigo_pais (str): El código ISO del país.\n",
    "    - codigo_indicador (str): El código del indicador económico.\n",
    "    \n",
    "    Retorna:\n",
    "    - list: Lista de datos obtenidos de la API, o una lista vacía si hubo un error o no se encontraron datos.\n",
    "    \"\"\"\n",
    "    url = f\"http://api.worldbank.org/v2/country/{codigo_pais}/indicator/{codigo_indicador}?format=json&date=2000:2021\"\n",
    "    try:\n",
    "        response = requests.get(url)\n",
    "        data = response.json()\n",
    "        if len(data) == 2 and 'page' in data[0]:\n",
    "            return data[1]  # data[1] contiene los datos reales\n",
    "    except requests.RequestException as e:\n",
    "        print(f\"Error al obtener datos desde la API: {e}\")\n",
    "    return []\n",
    "\n",
    "def transformar_datos(datos_crudos):\n",
    "    \"\"\"\n",
    "    Transforma los datos crudos obtenidos de la API en una lista de diccionarios, preparados para ser convertidos en DataFrame.\n",
    "    \n",
    "    Parámetros:\n",
    "    - datos_crudos (list): Lista de datos crudos obtenidos de la API.\n",
    "    \n",
    "    Retorna:\n",
    "    - list: Lista de diccionarios con los datos transformados, adecuados para conversión a DataFrame.\n",
    "    \"\"\"\n",
    "    if datos_crudos:\n",
    "        return [\n",
    "            {'Country Code': dato.get('country', {}).get('id', 'N/A'),\n",
    "             'Country Name': dato.get('country', {}).get('value', 'N/A'),\n",
    "             'Indicator Code': dato.get('indicator', {}).get('id', 'N/A'),\n",
    "             'Year': int(dato.get('date', '1900')),\n",
    "             'Value': dato.get('value', None),}\n",
    "            for dato in datos_crudos if dato.get('value') is not None\n",
    "        ]\n",
    "    return []\n",
    "\n",
    "#\n",
    "# Inicializar sesión de requests\n",
    "session = requests.Session()\n",
    "\n",
    "# Indicadores y países\n",
    "indicadores = ['FR.INR.RINR', 'PA.NUS.FCRF', 'NY.GDP.MKTP.CD', 'NY.GDP.PCAP.CD', 'SP.POP.TOTL', 'FP.CPI.TOTL', 'GC.DOD.TOTL.GD.ZS', 'NE.EXP.GNFS.CD', 'NE.IMP.GNFS.CD', 'FI.RES.TOTL.CD', 'DT.DOD.DECT.CD', 'GC.TAX.TOTL.GD.ZS', 'SL.UEM.TOTL.NE.ZS', 'SH.XPD.CHEX.GD.ZS', 'SE.XPD.TOTL.GD.ZS', 'EG.ELC.ACCS.ZS', 'EG.USE.PCAP.KG.OE', 'EN.ATM.CO2E.PC', 'IT.NET.USER.ZS', 'SP.DYN.CBRT.IN']\n",
    "indicadores_sanitizados = [indicador.replace('.', '_') for indicador in indicadores]\n",
    "paises = ['MEX']\n",
    "\n",
    "resultados = []\n",
    "for pais in tqdm(paises, desc=\"Procesando países\"):\n",
    "    for indicador in tqdm(indicadores, desc=f\"Indicadores para {pais}\"):\n",
    "        datos_crudos = obtener_datos_desde_api(pais, indicador)\n",
    "        resultados.extend(transformar_datos(datos_crudos))\n",
    "\n",
    "# Crear DataFrame\n",
    "df = pd.DataFrame(resultados)\n",
    "\n",
    "# Reemplazar puntos por guiones bajos en los nombres de los indicadores en el DataFrame\n",
    "df['Indicator Code'] = df['Indicator Code'].str.replace('.', '_')\n",
    "\n",
    "print(df)"
   ]
  },
  {
   "cell_type": "markdown",
   "id": "2da11b87-3739-46a9-ae74-e6f424cf02e0",
   "metadata": {},
   "source": [
    "## Estructura de la tabla"
   ]
  },
  {
   "cell_type": "code",
   "execution_count": 31,
   "id": "66af042b-e9b9-41bc-bf4e-a0f479a9bf3c",
   "metadata": {
    "tags": []
   },
   "outputs": [
    {
     "name": "stdout",
     "output_type": "stream",
     "text": [
      "Conectado a Redshift con éxito!\n",
      "Tablas creadas con éxito\n"
     ]
    }
   ],
   "source": [
    "def crear_conexion_redshift(host, base_de_datos, archivo_usuario, archivo_contraseña, puerto=5439):\n",
    "    \"\"\"\n",
    "    Crea y devuelve una conexión a una base de datos de Redshift.\n",
    "    \n",
    "    Parámetros:\n",
    "        host (str): El hostname del cluster de Redshift.\n",
    "        base_de_datos (str): El nombre de la base de datos a la que conectar.\n",
    "        archivo_usuario (str): Ruta al archivo que contiene el nombre de usuario.\n",
    "        archivo_contraseña (str): Ruta al archivo que contiene la contraseña.\n",
    "        puerto (int): Puerto para conectar al cluster de Redshift (por defecto 5439).\n",
    "    \n",
    "    Retorna:\n",
    "        Una conexión psycopg2 a Redshift si es exitosa, None en caso contrario.\n",
    "    \"\"\"\n",
    "    try:\n",
    "        # Leer el usuario y la contraseña de los archivos\n",
    "        with open(archivo_usuario, 'r') as f:\n",
    "            usuario = f.read().strip()\n",
    "        with open(archivo_contraseña, 'r') as f:\n",
    "            contraseña = f.read().strip()\n",
    "\n",
    "        # Establecer la conexión\n",
    "        conexion = psycopg2.connect(\n",
    "            host=host,\n",
    "            dbname=base_de_datos,\n",
    "            user=usuario,\n",
    "            password=contraseña,\n",
    "            port=puerto\n",
    "        )\n",
    "        print(\"Conectado a Redshift con éxito!\")\n",
    "        return conexion\n",
    "\n",
    "    except Exception as e:\n",
    "        print(\"No es posible conectar a Redshift\")\n",
    "        print(e)\n",
    "        return None\n",
    "\n",
    "def crear_tablas(conexion):\n",
    "    \"\"\"\n",
    "    Crea las tablas 'countries' y 'country_indicators' en la base de datos especificada.\n",
    "\n",
    "    Parámetros:\n",
    "    - conexion: Objeto de conexión a la base de datos.\n",
    "\n",
    "    Las tablas creadas son:\n",
    "    1. 'countries': Almacena la información de los países con los siguientes campos:\n",
    "       - country_code VARCHAR(3) PRIMARY KEY,\n",
    "       - country_name VARCHAR(100).\n",
    "\n",
    "    2. 'country_indicators': Almacena los indicadores económicos de los países con los siguientes campos:\n",
    "       - id INTEGER IDENTITY(1,1) PRIMARY KEY,\n",
    "       - country_code VARCHAR(3) REFERENCES countries(country_code),\n",
    "       - year INT,\n",
    "       - ingest_time TIMESTAMP DEFAULT CURRENT_TIMESTAMP,\n",
    "       - Una columna para cada indicador con su nombre sanitizado.\n",
    "    \"\"\"\n",
    "    cursor = conexion.cursor()\n",
    "    \n",
    "    crear_tabla_paises = \"\"\"\n",
    "    CREATE TABLE IF NOT EXISTS countries (\n",
    "        country_code VARCHAR(3) PRIMARY KEY,\n",
    "        country_name VARCHAR(100)\n",
    "    );\n",
    "    \"\"\"\n",
    "    \n",
    "    crear_tabla_indicadores = f\"\"\"\n",
    "    CREATE TABLE IF NOT EXISTS country_indicators (\n",
    "        id INTEGER IDENTITY(1,1) PRIMARY KEY,\n",
    "        country_code VARCHAR(3) REFERENCES countries(country_code),\n",
    "        year INT,\n",
    "        {\", \".join([f'\"{indicador}\" DECIMAL(14, 5)' for indicador in indicadores_sanitizados])},\n",
    "        ingest_time TIMESTAMP DEFAULT CURRENT_TIMESTAMP\n",
    "    );\n",
    "    \"\"\"\n",
    "    \n",
    "    try:\n",
    "        cursor.execute(crear_tabla_paises)\n",
    "        cursor.execute(crear_tabla_indicadores)\n",
    "        conexion.commit()\n",
    "        print(\"Tablas creadas con éxito\")\n",
    "\n",
    "    except Exception as e:\n",
    "        print(\"Ocurrió un error al crear las tablas:\", e)\n",
    "        conexion.rollback()\n",
    "\n",
    "    finally:\n",
    "        cursor.close()\n",
    "\n",
    "# Crear y probar la conexión\n",
    "conexion = crear_conexion_redshift(url, base_de_datos, archivo_usuario, archivo_contraseña)\n",
    "if conexion:\n",
    "    crear_tablas(conexion)\n",
    "    conexion.close()"
   ]
  },
  {
   "cell_type": "markdown",
   "id": "05e29234-7fed-4894-9936-88147b2ccdde",
   "metadata": {},
   "source": [
    "## Variedad de los datos"
   ]
  },
  {
   "cell_type": "code",
   "execution_count": 4,
   "id": "356c138e-e861-4232-a5b5-bf8597ad7ed9",
   "metadata": {
    "tags": []
   },
   "outputs": [],
   "source": [
    "def ejecutar_consulta(conexion, consulta_sql):\n",
    "    \"\"\"\n",
    "    Ejecuta una consulta SQL en la base de datos y devuelve los resultados como un DataFrame de pandas.\n",
    "    \n",
    "    Parámetros:\n",
    "        conexion (connection): Conexión a la base de datos.\n",
    "        consulta_sql (str): La consulta SQL a ejecutar.\n",
    "    \n",
    "    Retorna:\n",
    "        DataFrame: Resultados de la consulta en un DataFrame de pandas.\n",
    "    \"\"\"\n",
    "    try:\n",
    "        cursor = conexion.cursor()\n",
    "        cursor.execute(consulta_sql)\n",
    "        resultados = cursor.fetchall()\n",
    "        columnas = [desc[0] for desc in cursor.description]\n",
    "        df_resultados = pd.DataFrame(resultados, columns=columnas)\n",
    "        return df_resultados\n",
    "    except Exception as e:\n",
    "        print(\"Error al ejecutar la consulta:\", e)\n",
    "        return pd.DataFrame()  # Devuelve un DataFrame vacío en caso de error\n",
    "    finally:\n",
    "        cursor.close()"
   ]
  },
  {
   "cell_type": "code",
   "execution_count": 5,
   "id": "ac57331e-33ee-40ff-b693-c98fc3bc50df",
   "metadata": {
    "tags": []
   },
   "outputs": [
    {
     "name": "stdout",
     "output_type": "stream",
     "text": [
      "Conectado a Redshift con éxito!\n",
      "               table_schema          table_name\n",
      "0  jeshua_romero_coderhouse           countries\n",
      "1  jeshua_romero_coderhouse  country_indicators\n"
     ]
    }
   ],
   "source": [
    "conexion = crear_conexion_redshift(url, base_de_datos, archivo_usuario, archivo_contraseña)\n",
    "consulta = \"SELECT table_schema, table_name FROM information_schema.tables WHERE table_schema NOT IN ('information_schema', 'pg_catalog') ORDER BY table_schema, table_name;\"\n",
    "consulta_df = ejecutar_consulta(conexion, consulta)\n",
    "print(consulta_df)\n",
    "conexion.close()"
   ]
  },
  {
   "cell_type": "code",
   "execution_count": 38,
   "id": "5d1cd799-f272-4748-a4fe-d9a928c2f6ba",
   "metadata": {
    "tags": []
   },
   "outputs": [
    {
     "name": "stdout",
     "output_type": "stream",
     "text": [
      "Conectado a Redshift con éxito!\n"
     ]
    },
    {
     "ename": "SyntaxError",
     "evalue": "syntax error at or near \"ON\"\nLINE 4:             ON CONFLICT (country_code) DO NOTHING;\n                    ^\n",
     "output_type": "error",
     "traceback": [
      "\u001b[1;31m---------------------------------------------------------------------------\u001b[0m",
      "\u001b[1;31mSyntaxError\u001b[0m                               Traceback (most recent call last)",
      "Cell \u001b[1;32mIn[38], line 49\u001b[0m\n\u001b[0;32m     47\u001b[0m \u001b[38;5;66;03m# Crear y probar la conexión\u001b[39;00m\n\u001b[0;32m     48\u001b[0m \u001b[38;5;28;01mif\u001b[39;00m conexion:\n\u001b[1;32m---> 49\u001b[0m     \u001b[43minsertar_datos\u001b[49m\u001b[43m(\u001b[49m\u001b[43mconexion\u001b[49m\u001b[43m,\u001b[49m\u001b[43m \u001b[49m\u001b[43mdf\u001b[49m\u001b[43m)\u001b[49m\n\u001b[0;32m     50\u001b[0m     conexion\u001b[38;5;241m.\u001b[39mclose()\n",
      "Cell \u001b[1;32mIn[38], line 19\u001b[0m, in \u001b[0;36minsertar_datos\u001b[1;34m(conexion, df)\u001b[0m\n\u001b[0;32m     17\u001b[0m \u001b[38;5;66;03m# Insertar datos en la tabla 'countries'\u001b[39;00m\n\u001b[0;32m     18\u001b[0m \u001b[38;5;28;01mfor\u001b[39;00m index, row \u001b[38;5;129;01min\u001b[39;00m df\u001b[38;5;241m.\u001b[39miterrows():\n\u001b[1;32m---> 19\u001b[0m     \u001b[43mcursor\u001b[49m\u001b[38;5;241;43m.\u001b[39;49m\u001b[43mexecute\u001b[49m\u001b[43m(\u001b[49m\u001b[38;5;124;43m\"\"\"\u001b[39;49m\n\u001b[0;32m     20\u001b[0m \u001b[38;5;124;43m        INSERT INTO countries (country_code, country_name)\u001b[39;49m\n\u001b[0;32m     21\u001b[0m \u001b[38;5;124;43m        VALUES (\u001b[39;49m\u001b[38;5;132;43;01m%s\u001b[39;49;00m\u001b[38;5;124;43m, \u001b[39;49m\u001b[38;5;132;43;01m%s\u001b[39;49;00m\u001b[38;5;124;43m)\u001b[39;49m\n\u001b[0;32m     22\u001b[0m \u001b[38;5;124;43m        ON CONFLICT (country_code) DO NOTHING;\u001b[39;49m\n\u001b[0;32m     23\u001b[0m \u001b[38;5;124;43m    \u001b[39;49m\u001b[38;5;124;43m\"\"\"\u001b[39;49m\u001b[43m,\u001b[49m\u001b[43m \u001b[49m\u001b[43m(\u001b[49m\u001b[43mrow\u001b[49m\u001b[43m[\u001b[49m\u001b[38;5;124;43m'\u001b[39;49m\u001b[38;5;124;43mCountry Code\u001b[39;49m\u001b[38;5;124;43m'\u001b[39;49m\u001b[43m]\u001b[49m\u001b[43m,\u001b[49m\u001b[43m \u001b[49m\u001b[43mrow\u001b[49m\u001b[43m[\u001b[49m\u001b[38;5;124;43m'\u001b[39;49m\u001b[38;5;124;43mCountry Name\u001b[39;49m\u001b[38;5;124;43m'\u001b[39;49m\u001b[43m]\u001b[49m\u001b[43m)\u001b[49m\u001b[43m)\u001b[49m\n\u001b[0;32m     25\u001b[0m \u001b[38;5;66;03m# Pivotear el DataFrame para que cada indicador sea una columna\u001b[39;00m\n\u001b[0;32m     26\u001b[0m df_pivot \u001b[38;5;241m=\u001b[39m df\u001b[38;5;241m.\u001b[39mpivot_table(index\u001b[38;5;241m=\u001b[39m[\u001b[38;5;124m'\u001b[39m\u001b[38;5;124mCountry Code\u001b[39m\u001b[38;5;124m'\u001b[39m, \u001b[38;5;124m'\u001b[39m\u001b[38;5;124mCountry Name\u001b[39m\u001b[38;5;124m'\u001b[39m, \u001b[38;5;124m'\u001b[39m\u001b[38;5;124mYear\u001b[39m\u001b[38;5;124m'\u001b[39m], columns\u001b[38;5;241m=\u001b[39m\u001b[38;5;124m'\u001b[39m\u001b[38;5;124mIndicator Code\u001b[39m\u001b[38;5;124m'\u001b[39m, values\u001b[38;5;241m=\u001b[39m\u001b[38;5;124m'\u001b[39m\u001b[38;5;124mValue\u001b[39m\u001b[38;5;124m'\u001b[39m)\u001b[38;5;241m.\u001b[39mreset_index()\n",
      "\u001b[1;31mSyntaxError\u001b[0m: syntax error at or near \"ON\"\nLINE 4:             ON CONFLICT (country_code) DO NOTHING;\n                    ^\n"
     ]
    }
   ],
   "source": [
    "def insertar_datos(conexion, df):\n",
    "    \"\"\"\n",
    "    Inserta los datos del DataFrame en las tablas 'countries' y 'country_indicators' en la base de datos.\n",
    "\n",
    "    Parámetros:\n",
    "    - conexion: Objeto de conexión a la base de datos.\n",
    "    - df (DataFrame): DataFrame con los datos a insertar.\n",
    "    \"\"\"\n",
    "    cursor = conexion.cursor()\n",
    "\n",
    "    # Verificar que las columnas necesarias existan en el DataFrame\n",
    "    required_columns = ['Country Code', 'Country Name', 'Year', 'Indicator Code', 'Value']\n",
    "    for col in required_columns:\n",
    "        if col not in df.columns:\n",
    "            raise KeyError(f\"La columna '{col}' no se encuentra en el DataFrame.\")\n",
    "    \n",
    "    # Insertar datos en la tabla 'countries'\n",
    "    for index, row in df.iterrows():\n",
    "        cursor.execute(\"\"\"\n",
    "            INSERT INTO countries (country_code, country_name)\n",
    "            VALUES (%s, %s)\n",
    "            ON CONFLICT (country_code) DO NOTHING;\n",
    "        \"\"\", (row['Country Code'], row['Country Name']))\n",
    "    \n",
    "    # Pivotear el DataFrame para que cada indicador sea una columna\n",
    "    df_pivot = df.pivot_table(index=['Country Code', 'Country Name', 'Year'], columns='Indicator Code', values='Value').reset_index()\n",
    "    indicadores_sanitizados = [col for col in df_pivot.columns if col not in ['Country Code', 'Country Name', 'Year']]\n",
    "    \n",
    "    # Insertar datos en la tabla 'country_indicators'\n",
    "    for index, row in df_pivot.iterrows():\n",
    "        valores = [row['Country Code'], row['Year']] + [row[col] if pd.notna(row[col]) else None for col in indicadores_sanitizados]\n",
    "        cursor.execute(f\"\"\"\n",
    "            INSERT INTO country_indicators (country_code, year, {\", \".join(indicadores_sanitizados)})\n",
    "            VALUES ({\", \".join([\"%s\"] * len(valores))});\n",
    "        \"\"\", valores)\n",
    "\n",
    "    try:\n",
    "        conexion.commit()\n",
    "        print(\"Datos insertados con éxito\")\n",
    "    except Exception as e:\n",
    "        print(\"Ocurrió un error al insertar los datos:\", e)\n",
    "        conexion.rollback()\n",
    "    finally:\n",
    "        cursor.close()\n",
    "\n",
    "conexion = crear_conexion_redshift(url, base_de_datos, archivo_usuario, archivo_contraseña)\n",
    "# Crear y probar la conexión\n",
    "if conexion:\n",
    "    insertar_datos(conexion, df)\n",
    "    conexion.close()"
   ]
  },
  {
   "cell_type": "code",
   "execution_count": 35,
   "id": "422dbc9f-ae97-46ea-aea6-a8feac5ffabc",
   "metadata": {
    "tags": []
   },
   "outputs": [
    {
     "name": "stdout",
     "output_type": "stream",
     "text": [
      "Conectado a Redshift con éxito!\n",
      "Empty DataFrame\n",
      "Columns: [country_code, country_name]\n",
      "Index: []\n"
     ]
    }
   ],
   "source": [
    "conexion = crear_conexion_redshift(url, base_de_datos, archivo_usuario, archivo_contraseña)\n",
    "consulta = \"SELECT * FROM countries;\"\n",
    "consulta_df = ejecutar_consulta(conexion, consulta)\n",
    "print(consulta_df)\n",
    "conexion.close()"
   ]
  },
  {
   "cell_type": "code",
   "execution_count": 36,
   "id": "81864e51-67ef-42c5-b836-d6689850d752",
   "metadata": {
    "tags": []
   },
   "outputs": [
    {
     "name": "stdout",
     "output_type": "stream",
     "text": [
      "Conectado a Redshift con éxito!\n",
      "Empty DataFrame\n",
      "Columns: [id, country_code, indicator_code, year, value, last_updated]\n",
      "Index: []\n"
     ]
    }
   ],
   "source": [
    "conexion = crear_conexion_redshift(url, base_de_datos, archivo_usuario, archivo_contraseña)\n",
    "consulta = \"SELECT * FROM country_indicators;\"\n",
    "consulta_df = ejecutar_consulta(conexion, consulta)\n",
    "print(consulta_df)\n",
    "conexion.close()"
   ]
  }
 ],
 "metadata": {
  "kernelspec": {
   "display_name": "Python 3 (ipykernel)",
   "language": "python",
   "name": "python3"
  },
  "language_info": {
   "codemirror_mode": {
    "name": "ipython",
    "version": 3
   },
   "file_extension": ".py",
   "mimetype": "text/x-python",
   "name": "python",
   "nbconvert_exporter": "python",
   "pygments_lexer": "ipython3",
   "version": "3.11.5"
  }
 },
 "nbformat": 4,
 "nbformat_minor": 5
}
